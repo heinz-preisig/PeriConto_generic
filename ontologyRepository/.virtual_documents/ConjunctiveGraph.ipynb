from rdflib import ConjunctiveGraph, URIRef, Namespace


file_name = "new.ttl"


data = open(file_name)


g = ConjunctiveGraph()


g.parse(data, format="turtle")


g.store


g.store.__dir__


g.store


for s,p,o in g:
    print(s,o,g)


for l in data:
    print(l)



