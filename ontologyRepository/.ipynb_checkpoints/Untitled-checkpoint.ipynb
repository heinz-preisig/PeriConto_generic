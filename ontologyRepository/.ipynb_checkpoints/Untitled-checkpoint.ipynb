{
 "cells": [
  {
   "cell_type": "code",
   "execution_count": 1,
   "id": "98f8f65c-b2b9-4bbd-8d68-3fd5969a5fbd",
   "metadata": {},
   "outputs": [],
   "source": [
    "from rdflib import ConjunctiveGraph, URIRef, Namespace"
   ]
  },
  {
   "cell_type": "code",
   "execution_count": 2,
   "id": "8530e7a3-386b-41c0-853c-e79895cffa98",
   "metadata": {},
   "outputs": [],
   "source": [
    "file_name = \"new.ttl\""
   ]
  },
  {
   "cell_type": "code",
   "execution_count": 3,
   "id": "eafbf34e-c7c4-4d60-ba72-11fc28118b3d",
   "metadata": {},
   "outputs": [],
   "source": [
    "data = open(file_name)"
   ]
  },
  {
   "cell_type": "code",
   "execution_count": 4,
   "id": "8000fcd2-749b-4f65-9097-d7dc02080c9a",
   "metadata": {},
   "outputs": [],
   "source": [
    "g = ConjunctiveGraph()"
   ]
  },
  {
   "cell_type": "code",
   "execution_count": 5,
   "id": "7b122653-1324-4611-9475-7b233316522d",
   "metadata": {},
   "outputs": [
    {
     "data": {
      "text/plain": [
       "<Graph identifier=N1292629fd2364e14a15ecc366c4a6009 (<class 'rdflib.graph.Graph'>)>"
      ]
     },
     "execution_count": 5,
     "metadata": {},
     "output_type": "execute_result"
    }
   ],
   "source": [
    "g.parse(data, format=\"turtle\")"
   ]
  },
  {
   "cell_type": "code",
   "execution_count": 6,
   "id": "cdb0d863-c817-4bc2-9da0-36e90afb3beb",
   "metadata": {},
   "outputs": [
    {
     "data": {
      "text/plain": [
       "<rdflib.plugins.stores.memory.Memory at 0x7741b92a1d00>"
      ]
     },
     "execution_count": 6,
     "metadata": {},
     "output_type": "execute_result"
    }
   ],
   "source": [
    "g.store"
   ]
  },
  {
   "cell_type": "code",
   "execution_count": 7,
   "id": "011fea34-5986-419a-9d48-fca4e24464a4",
   "metadata": {},
   "outputs": [
    {
     "data": {
      "text/plain": [
       "<function Memory.__dir__()>"
      ]
     },
     "execution_count": 7,
     "metadata": {},
     "output_type": "execute_result"
    }
   ],
   "source": [
    "g.store.__dir__"
   ]
  },
  {
   "cell_type": "code",
   "execution_count": 8,
   "id": "43fd346d-da0a-4882-ad83-d76bd6d0b27a",
   "metadata": {},
   "outputs": [
    {
     "data": {
      "text/plain": [
       "<rdflib.plugins.stores.memory.Memory at 0x7741b92a1d00>"
      ]
     },
     "execution_count": 8,
     "metadata": {},
     "output_type": "execute_result"
    }
   ],
   "source": [
    "g.store"
   ]
  },
  {
   "cell_type": "code",
   "execution_count": 10,
   "id": "a9893d39-a5f0-4a79-86a8-0bdb47416879",
   "metadata": {},
   "outputs": [
    {
     "name": "stdout",
     "output_type": "stream",
     "text": [
      "http://example.org/material http://example.org/dryingAgent [a rdflib:ConjunctiveGraph;rdflib:storage [a rdflib:Store;rdfs:label 'Memory']]\n",
      "http://example.org/quantityMeasure http://example.org/integer [a rdflib:ConjunctiveGraph;rdflib:storage [a rdflib:Store;rdfs:label 'Memory']]\n",
      "http://example.org/offTheShelf http://example.org/material [a rdflib:ConjunctiveGraph;rdflib:storage [a rdflib:Store;rdfs:label 'Memory']]\n",
      "http://example.org/material http://example.org/colourPigment [a rdflib:ConjunctiveGraph;rdflib:storage [a rdflib:Store;rdfs:label 'Memory']]\n",
      "http://example.org/material http://example.org/inhibitorPigment [a rdflib:ConjunctiveGraph;rdflib:storage [a rdflib:Store;rdfs:label 'Memory']]\n",
      "http://example.org/extender http://example.org/coatingLayer [a rdflib:ConjunctiveGraph;rdflib:storage [a rdflib:Store;rdfs:label 'Memory']]\n",
      "http://example.org/chemicalComponent http://example.org/URL [a rdflib:ConjunctiveGraph;rdflib:storage [a rdflib:Store;rdfs:label 'Memory']]\n",
      "http://example.org/filler http://example.org/pigment [a rdflib:ConjunctiveGraph;rdflib:storage [a rdflib:Store;rdfs:label 'Memory']]\n",
      "http://example.org/material http://example.org/preservative [a rdflib:ConjunctiveGraph;rdflib:storage [a rdflib:Store;rdfs:label 'Memory']]\n",
      "http://example.org/dye http://example.org/additive [a rdflib:ConjunctiveGraph;rdflib:storage [a rdflib:Store;rdfs:label 'Memory']]\n",
      "http://example.org/additive http://example.org/coatingLayer [a rdflib:ConjunctiveGraph;rdflib:storage [a rdflib:Store;rdfs:label 'Memory']]\n",
      "http://example.org/chemicalComponent http://example.org/product [a rdflib:ConjunctiveGraph;rdflib:storage [a rdflib:Store;rdfs:label 'Memory']]\n",
      "http://example.org/polymerisationProcess http://example.org/productionProcess [a rdflib:ConjunctiveGraph;rdflib:storage [a rdflib:Store;rdfs:label 'Memory']]\n",
      "http://example.org/productionProcess http://example.org/processProduct [a rdflib:ConjunctiveGraph;rdflib:storage [a rdflib:Store;rdfs:label 'Memory']]\n",
      "http://example.org/material http://example.org/defoamerAgent [a rdflib:ConjunctiveGraph;rdflib:storage [a rdflib:Store;rdfs:label 'Memory']]\n",
      "http://example.org/coatingLayer http://example.org/layers [a rdflib:ConjunctiveGraph;rdflib:storage [a rdflib:Store;rdfs:label 'Memory']]\n",
      "http://example.org/dryingAgent http://example.org/additive [a rdflib:ConjunctiveGraph;rdflib:storage [a rdflib:Store;rdfs:label 'Memory']]\n",
      "http://example.org/preTreatedSurface http://example.org/layers [a rdflib:ConjunctiveGraph;rdflib:storage [a rdflib:Store;rdfs:label 'Memory']]\n",
      "http://example.org/etching http://example.org/surfaceTreatmentProcess [a rdflib:ConjunctiveGraph;rdflib:storage [a rdflib:Store;rdfs:label 'Memory']]\n",
      "http://example.org/substrate http://example.org/coatedProduct [a rdflib:ConjunctiveGraph;rdflib:storage [a rdflib:Store;rdfs:label 'Memory']]\n",
      "http://example.org/preservative http://example.org/additive [a rdflib:ConjunctiveGraph;rdflib:storage [a rdflib:Store;rdfs:label 'Memory']]\n",
      "http://example.org/defoamerAgent http://example.org/additive [a rdflib:ConjunctiveGraph;rdflib:storage [a rdflib:Store;rdfs:label 'Memory']]\n",
      "http://example.org/chemicalComponent http://example.org/offTheShelf [a rdflib:ConjunctiveGraph;rdflib:storage [a rdflib:Store;rdfs:label 'Memory']]\n",
      "http://example.org/product http://example.org/chemical [a rdflib:ConjunctiveGraph;rdflib:storage [a rdflib:Store;rdfs:label 'Memory']]\n",
      "http://example.org/URL http://example.org/string [a rdflib:ConjunctiveGraph;rdflib:storage [a rdflib:Store;rdfs:label 'Memory']]\n",
      "http://example.org/processProduct http://example.org/material [a rdflib:ConjunctiveGraph;rdflib:storage [a rdflib:Store;rdfs:label 'Memory']]\n",
      "http://example.org/lightStabiliser http://example.org/additive [a rdflib:ConjunctiveGraph;rdflib:storage [a rdflib:Store;rdfs:label 'Memory']]\n",
      "http://example.org/reactant http://example.org/chemical [a rdflib:ConjunctiveGraph;rdflib:storage [a rdflib:Store;rdfs:label 'Memory']]\n",
      "http://example.org/reaction http://example.org/polymerisationProcess [a rdflib:ConjunctiveGraph;rdflib:storage [a rdflib:Store;rdfs:label 'Memory']]\n",
      "http://example.org/chemicalComponent http://example.org/etching [a rdflib:ConjunctiveGraph;rdflib:storage [a rdflib:Store;rdfs:label 'Memory']]\n",
      "http://example.org/andozing http://example.org/surfaceTreatmentProcess [a rdflib:ConjunctiveGraph;rdflib:storage [a rdflib:Store;rdfs:label 'Memory']]\n",
      "http://example.org/solGelCoating http://example.org/surfaceTreatmentProcess [a rdflib:ConjunctiveGraph;rdflib:storage [a rdflib:Store;rdfs:label 'Memory']]\n",
      "http://example.org/material http://example.org/dye [a rdflib:ConjunctiveGraph;rdflib:storage [a rdflib:Store;rdfs:label 'Memory']]\n",
      "http://example.org/material http://example.org/lightStabiliser [a rdflib:ConjunctiveGraph;rdflib:storage [a rdflib:Store;rdfs:label 'Memory']]\n",
      "http://example.org/binder http://example.org/coatingLayer [a rdflib:ConjunctiveGraph;rdflib:storage [a rdflib:Store;rdfs:label 'Memory']]\n",
      "http://example.org/material http://example.org/binder [a rdflib:ConjunctiveGraph;rdflib:storage [a rdflib:Store;rdfs:label 'Memory']]\n",
      "http://example.org/material http://example.org/preTreatedSurface [a rdflib:ConjunctiveGraph;rdflib:storage [a rdflib:Store;rdfs:label 'Memory']]\n",
      "http://example.org/chemicalComponent http://example.org/quantityMeasure [a rdflib:ConjunctiveGraph;rdflib:storage [a rdflib:Store;rdfs:label 'Memory']]\n",
      "http://example.org/nonreactive http://example.org/chemical [a rdflib:ConjunctiveGraph;rdflib:storage [a rdflib:Store;rdfs:label 'Memory']]\n",
      "http://example.org/pigment http://example.org/coatingLayer [a rdflib:ConjunctiveGraph;rdflib:storage [a rdflib:Store;rdfs:label 'Memory']]\n",
      "http://example.org/rheologyAgent http://example.org/additive [a rdflib:ConjunctiveGraph;rdflib:storage [a rdflib:Store;rdfs:label 'Memory']]\n",
      "http://example.org/pickling http://example.org/surfaceTreatmentProcess [a rdflib:ConjunctiveGraph;rdflib:storage [a rdflib:Store;rdfs:label 'Memory']]\n",
      "http://example.org/surfaceActiveAgent http://example.org/additive [a rdflib:ConjunctiveGraph;rdflib:storage [a rdflib:Store;rdfs:label 'Memory']]\n",
      "http://example.org/material http://example.org/wettingAgent [a rdflib:ConjunctiveGraph;rdflib:storage [a rdflib:Store;rdfs:label 'Memory']]\n",
      "http://example.org/chemicalComponent http://example.org/reactant [a rdflib:ConjunctiveGraph;rdflib:storage [a rdflib:Store;rdfs:label 'Memory']]\n",
      "http://example.org/catalyst http://example.org/additive [a rdflib:ConjunctiveGraph;rdflib:storage [a rdflib:Store;rdfs:label 'Memory']]\n",
      "http://example.org/chemicalComponent http://example.org/solGelCoating [a rdflib:ConjunctiveGraph;rdflib:storage [a rdflib:Store;rdfs:label 'Memory']]\n",
      "http://example.org/material http://example.org/substrate [a rdflib:ConjunctiveGraph;rdflib:storage [a rdflib:Store;rdfs:label 'Memory']]\n",
      "http://example.org/electrolyte http://example.org/pickling [a rdflib:ConjunctiveGraph;rdflib:storage [a rdflib:Store;rdfs:label 'Memory']]\n",
      "http://example.org/layers http://example.org/coatedProduct [a rdflib:ConjunctiveGraph;rdflib:storage [a rdflib:Store;rdfs:label 'Memory']]\n",
      "http://example.org/inhibitorPigment http://example.org/pigment [a rdflib:ConjunctiveGraph;rdflib:storage [a rdflib:Store;rdfs:label 'Memory']]\n",
      "http://example.org/material http://example.org/extender [a rdflib:ConjunctiveGraph;rdflib:storage [a rdflib:Store;rdfs:label 'Memory']]\n",
      "http://example.org/colourPigment http://example.org/pigment [a rdflib:ConjunctiveGraph;rdflib:storage [a rdflib:Store;rdfs:label 'Memory']]\n",
      "http://example.org/surfaceTreatmentProcess http://example.org/productionProcess [a rdflib:ConjunctiveGraph;rdflib:storage [a rdflib:Store;rdfs:label 'Memory']]\n",
      "http://example.org/washing http://example.org/surfaceTreatmentProcess [a rdflib:ConjunctiveGraph;rdflib:storage [a rdflib:Store;rdfs:label 'Memory']]\n",
      "http://example.org/material http://example.org/rheologyAgent [a rdflib:ConjunctiveGraph;rdflib:storage [a rdflib:Store;rdfs:label 'Memory']]\n",
      "http://example.org/material http://example.org/filler [a rdflib:ConjunctiveGraph;rdflib:storage [a rdflib:Store;rdfs:label 'Memory']]\n",
      "http://example.org/material http://example.org/surfaceActiveAgent [a rdflib:ConjunctiveGraph;rdflib:storage [a rdflib:Store;rdfs:label 'Memory']]\n",
      "http://example.org/chemical http://example.org/reaction [a rdflib:ConjunctiveGraph;rdflib:storage [a rdflib:Store;rdfs:label 'Memory']]\n",
      "http://example.org/wettingAgent http://example.org/additive [a rdflib:ConjunctiveGraph;rdflib:storage [a rdflib:Store;rdfs:label 'Memory']]\n",
      "http://example.org/material http://example.org/catalyst [a rdflib:ConjunctiveGraph;rdflib:storage [a rdflib:Store;rdfs:label 'Memory']]\n"
     ]
    }
   ],
   "source": [
    "for s,p,o in g:\n",
    "    print(s,o,g)"
   ]
  },
  {
   "cell_type": "code",
   "execution_count": null,
   "id": "eebb355b-94e7-46e8-a48c-a7b7e0a463ed",
   "metadata": {},
   "outputs": [],
   "source": [
    "for l in data:\n",
    "    print(l)"
   ]
  },
  {
   "cell_type": "code",
   "execution_count": null,
   "id": "4fdd4144-6e78-448d-8ae2-dcaa72f67348",
   "metadata": {},
   "outputs": [],
   "source": []
  }
 ],
 "metadata": {
  "kernelspec": {
   "display_name": "Python 3 (ipykernel)",
   "language": "python",
   "name": "python3"
  },
  "language_info": {
   "codemirror_mode": {
    "name": "ipython",
    "version": 3
   },
   "file_extension": ".py",
   "mimetype": "text/x-python",
   "name": "python",
   "nbconvert_exporter": "python",
   "pygments_lexer": "ipython3",
   "version": "3.12.4"
  }
 },
 "nbformat": 4,
 "nbformat_minor": 5
}
